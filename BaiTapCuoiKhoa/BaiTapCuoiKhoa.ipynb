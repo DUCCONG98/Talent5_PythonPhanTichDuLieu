{
 "cells": [
  {
   "cell_type": "markdown",
   "metadata": {},
   "source": [
    "# Đề bài\n",
    "\n",
    "Chọn 1 dữ liệu bất kỳ mà bạn đang có. Hãy viết code để phân tích và tận dụng dữ liệu bạn đang có. Nếu bạn đã có dữ liệu có thể liên lạc với đội ngũ giảng viên để nhờ tư vấn xem tận dụng dữ liệu như thế nào.\n",
    "Ví dụ\n",
    "1. phân tích thuộc tính khách hàng\n",
    "2. phân tích mối quan hệ giữa thời tiết với giá cổ phiếu của 1 công ty ..."
   ]
  }
 ],
 "metadata": {
  "kernelspec": {
   "display_name": "Python 3",
   "language": "python",
   "name": "python3"
  },
  "language_info": {
   "codemirror_mode": {
    "name": "ipython",
    "version": 3
   },
   "file_extension": ".py",
   "mimetype": "text/x-python",
   "name": "python",
   "nbconvert_exporter": "python",
   "pygments_lexer": "ipython3",
   "version": "3.7.6"
  }
 },
 "nbformat": 4,
 "nbformat_minor": 4
}
