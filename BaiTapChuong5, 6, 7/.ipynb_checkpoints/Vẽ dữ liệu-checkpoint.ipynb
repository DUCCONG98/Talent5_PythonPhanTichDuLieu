{
 "cells": [
  {
   "cell_type": "markdown",
   "metadata": {},
   "source": [
    "# Bài tập chương 5, 6, 7"
   ]
  },
  {
   "cell_type": "markdown",
   "metadata": {},
   "source": [
    "# Vẽ dữ liệu liên quan đến sản xuất"
   ]
  },
  {
   "cell_type": "markdown",
   "metadata": {},
   "source": [
    "# Dữ liệu\n",
    "\n",
    "1. file dữ liệu\n",
    "data.csv\n",
    "\n",
    "2. Giải thích về file dữ liệu\n",
    "Là dữ liệu về các cảm ứng của máy sản xuất\n",
    "\n"
   ]
  },
  {
   "cell_type": "markdown",
   "metadata": {},
   "source": [
    "# Yêu cầu\n",
    "1. Vẽ những đồ thị histgram về số lượng sản xuất của từng sản phẩm, tốc độ của từng sản phẩm\n",
    "2. Phân tích thời gian lỗi của sản phẩm\n",
    "(máy lỗi khi cột Status = \"ERROR\")\n",
    "3. Nhận xét về dữ liệu theo ý kiến cá nhân\n"
   ]
  },
  {
   "cell_type": "code",
   "execution_count": null,
   "metadata": {},
   "outputs": [],
   "source": []
  }
 ],
 "metadata": {
  "kernelspec": {
   "display_name": "Python 3",
   "language": "python",
   "name": "python3"
  },
  "language_info": {
   "codemirror_mode": {
    "name": "ipython",
    "version": 3
   },
   "file_extension": ".py",
   "mimetype": "text/x-python",
   "name": "python",
   "nbconvert_exporter": "python",
   "pygments_lexer": "ipython3",
   "version": "3.7.6"
  }
 },
 "nbformat": 4,
 "nbformat_minor": 4
}
