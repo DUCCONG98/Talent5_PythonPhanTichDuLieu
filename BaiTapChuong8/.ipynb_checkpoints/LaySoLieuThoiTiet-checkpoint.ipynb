{
 "cells": [
  {
   "cell_type": "markdown",
   "metadata": {},
   "source": [
    "# Đề bài\n",
    "\n",
    "Hãy lập trình lấy dữ liệu thời tiết ở Hà Nội ngày hôm nay, ngày mai và ngày kia từ trang web"
   ]
  },
  {
   "cell_type": "code",
   "execution_count": 3,
   "metadata": {},
   "outputs": [],
   "source": [
    "def get_weather():\n",
    "    # defaut value\n",
    "    today_temp = 0\n",
    "    tomorrow_temp = 0\n",
    "    twoday_after_temp = 0\n",
    "\n",
    "    # Start: Phần bạn code\n",
    "    # End: Phần bạn code\n",
    "    return today_temp, tomorrow_temp, twoday_after_temp"
   ]
  },
  {
   "cell_type": "code",
   "execution_count": null,
   "metadata": {},
   "outputs": [],
   "source": [
    "# web site lấy thời tiết tham khảo\n",
    "https://www.24h.com.vn/du-bao-thoi-tiet-c568.html"
   ]
  }
 ],
 "metadata": {
  "kernelspec": {
   "display_name": "Python 3",
   "language": "python",
   "name": "python3"
  },
  "language_info": {
   "codemirror_mode": {
    "name": "ipython",
    "version": 3
   },
   "file_extension": ".py",
   "mimetype": "text/x-python",
   "name": "python",
   "nbconvert_exporter": "python",
   "pygments_lexer": "ipython3",
   "version": "3.7.6"
  }
 },
 "nbformat": 4,
 "nbformat_minor": 4
}
