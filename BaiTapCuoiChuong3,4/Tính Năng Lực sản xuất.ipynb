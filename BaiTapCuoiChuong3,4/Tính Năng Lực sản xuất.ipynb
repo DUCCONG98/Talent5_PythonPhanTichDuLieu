{
 "cells": [
  {
   "cell_type": "markdown",
   "metadata": {},
   "source": [
    "# Đề bài"
   ]
  },
  {
   "cell_type": "markdown",
   "metadata": {},
   "source": [
    "Bạn đang làm ở bộ phận kiểm tra chất lượng sản phẩm trong công xưởng sản xuất thực phẩm. Bạn muốn tính xem 1 ngày sản xuất được bao nhiêu sản phẩm.\n",
    "\n",
    "Bạn hãy lập chương trình tính số sản phẩm công xưởng làm trong 1 ngày khi biết được số sản phẩm sản xuất trong 1 giờ là n sản phẩm và 1 ngày công xưởng làm h giờ.\n",
    "\n",
    "Ví dụ phần nhập dữ liệu của chương trình như sau\n",
    " - 1h là được 120 sản phẩm\n",
    " - công xưởng làm 8 tiếng\n",
    " - Bạn phải lập trình để tính ra số sản phẩm làm trong 1 ngày là 960 tiếng\n",
    "\n"
   ]
  },
  {
   "cell_type": "markdown",
   "metadata": {},
   "source": [
    "## Ví dụ về Input\n",
    "120\n",
    "\n",
    "8"
   ]
  },
  {
   "cell_type": "markdown",
   "metadata": {},
   "source": [
    "### Ví dụ về outupt\n",
    "960"
   ]
  },
  {
   "cell_type": "markdown",
   "metadata": {},
   "source": [
    "# Phần coding "
   ]
  },
  {
   "cell_type": "code",
   "execution_count": 6,
   "metadata": {},
   "outputs": [
    {
     "name": "stdout",
     "output_type": "stream",
     "text": [
      "120\n",
      "120\n"
     ]
    }
   ],
   "source": [
    "# Bạn bắt đầu code từ đây\n",
    "product_per_hour = input()\n",
    "print(product_per_hour)"
   ]
  },
  {
   "cell_type": "code",
   "execution_count": null,
   "metadata": {},
   "outputs": [],
   "source": []
  }
 ],
 "metadata": {
  "kernelspec": {
   "display_name": "Python 3",
   "language": "python",
   "name": "python3"
  },
  "language_info": {
   "codemirror_mode": {
    "name": "ipython",
    "version": 3
   },
   "file_extension": ".py",
   "mimetype": "text/x-python",
   "name": "python",
   "nbconvert_exporter": "python",
   "pygments_lexer": "ipython3",
   "version": "3.7.6"
  }
 },
 "nbformat": 4,
 "nbformat_minor": 4
}
